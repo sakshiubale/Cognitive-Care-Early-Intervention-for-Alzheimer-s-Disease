{
  "nbformat": 4,
  "nbformat_minor": 0,
  "metadata": {
    "colab": {
      "provenance": []
    },
    "kernelspec": {
      "name": "python3",
      "display_name": "Python 3"
    },
    "language_info": {
      "name": "python"
    }
  },
  "cells": [
    {
      "cell_type": "markdown",
      "source": [
        "**AI ASSIGNMENT 1**\n",
        "\n",
        "\n",
        "\n",
        "\n"
      ],
      "metadata": {
        "id": "rwolh03_4gdR"
      }
    },
    {
      "cell_type": "markdown",
      "source": [
        "1. Write a python Program to display the last digit of number(hint: Any number divide by 10 will return last digit)"
      ],
      "metadata": {
        "id": "0qEHtvtK6Tke"
      }
    },
    {
      "cell_type": "code",
      "source": [
        "def last_d(num):\n",
        "    return num % 10\n",
        "\n",
        "num = 54550\n",
        "print(num)"
      ],
      "metadata": {
        "colab": {
          "base_uri": "https://localhost:8080/"
        },
        "id": "KtKRMUOqP75Q",
        "outputId": "440c2ec8-ecd2-48da-e960-b7aa3e26871f"
      },
      "execution_count": null,
      "outputs": [
        {
          "output_type": "stream",
          "name": "stdout",
          "text": [
            "54550\n"
          ]
        }
      ]
    },
    {
      "cell_type": "markdown",
      "source": [
        "2. Write a function to Calculate Area and Perimeter of Rectangle"
      ],
      "metadata": {
        "id": "heU4XmV16VkJ"
      }
    },
    {
      "cell_type": "code",
      "source": [
        "def cal_ap(l, w):\n",
        "    a = l * w\n",
        "    p = 2 * (l + w)\n",
        "    return a, p\n",
        "\n",
        "l = 5\n",
        "w = 3\n",
        "\n",
        "rect_a, rect_p = cal_ap(l,w)\n",
        "\n",
        "print('length : ',l,'width : ',w)\n",
        "print(\"Area:\", rect_a)\n",
        "print(\"Perimeter:\", rect_p)"
      ],
      "metadata": {
        "colab": {
          "base_uri": "https://localhost:8080/"
        },
        "id": "FTENmhm-QdIm",
        "outputId": "eae52f98-5fda-4d3b-e2da-4f5b737613dc"
      },
      "execution_count": null,
      "outputs": [
        {
          "output_type": "stream",
          "name": "stdout",
          "text": [
            "length :  5 width :  3\n",
            "Area: 15\n",
            "Perimeter: 16\n"
          ]
        }
      ]
    },
    {
      "cell_type": "markdown",
      "source": [
        "3. Write a python Program to find out given No is Prime or Not."
      ],
      "metadata": {
        "id": "Wqp4d9mQ6aRq"
      }
    },
    {
      "cell_type": "code",
      "source": [
        "num = int(input('Enter number greater than 2: '))\n",
        "\n",
        "if num > 1:\n",
        "    for i in range(2, num):\n",
        "        if (num % i) == 0:\n",
        "            print(num, 'is not a prime number')\n",
        "            break\n",
        "    else:\n",
        "        print(num, 'is a prime number')\n",
        "else:\n",
        "    print(num, 'is not a prime number')"
      ],
      "metadata": {
        "colab": {
          "base_uri": "https://localhost:8080/"
        },
        "id": "KEqrUFg6WW7O",
        "outputId": "4e88aa09-d8ea-409e-d4a6-0902728ab842"
      },
      "execution_count": null,
      "outputs": [
        {
          "output_type": "stream",
          "name": "stdout",
          "text": [
            "Enter number greater than 2: 4\n",
            "4 is not a prime number\n"
          ]
        }
      ]
    },
    {
      "cell_type": "markdown",
      "source": [
        "4. Write a Python program that prompts the user to input three numbers and then determines and\n",
        "prints the largest among them."
      ],
      "metadata": {
        "id": "Sj-3sBDF6l7Z"
      }
    },
    {
      "cell_type": "code",
      "source": [
        "num1=int(input('enter first number : '))\n",
        "num2=int(input('enter second number : '))\n",
        "num3=int(input('enter third number : '))\n",
        "if num1>num2 and num1>num3:\n",
        "  print(num1,' is largest')\n",
        "elif num2>num1 and num2>num3:\n",
        "  print(num2,' is largest')\n",
        "elif num3>num2 and num3>num1:\n",
        "  print(num3,' is largest')\n",
        "else:\n",
        "  print('enter valid numbers')"
      ],
      "metadata": {
        "colab": {
          "base_uri": "https://localhost:8080/"
        },
        "id": "6Dm69EZOXvEp",
        "outputId": "b47986df-5c4e-45aa-c84b-dcd2d39eaf6e"
      },
      "execution_count": null,
      "outputs": [
        {
          "output_type": "stream",
          "name": "stdout",
          "text": [
            "enter first number : 2\n",
            "enter second number : 3\n",
            "enter third number : 4\n",
            "4  is largest\n"
          ]
        }
      ]
    },
    {
      "cell_type": "markdown",
      "source": [
        "5. Write a Python program to calculate electricity bill (accept no of unit from user) according to following criteria: Unit Price\n",
        "First 100 units  no charge\n",
        "Next 100 units Rs 5 per Unit\n",
        "After 200 Units Rs 10 per Unit\n",
        "(For Example if input unit is 350 then total bill amount is 2000)"
      ],
      "metadata": {
        "id": "FOIyQFuq6n4Y"
      }
    },
    {
      "cell_type": "code",
      "source": [
        "unit=int(input('Number of unit for electricity : '))\n",
        "if unit <= 100:\n",
        "  print('No charge')\n",
        "elif unit <= 200:\n",
        "  print((unit-100)*5)\n",
        "else:\n",
        "  print(100*5+(unit-200)*10)"
      ],
      "metadata": {
        "colab": {
          "base_uri": "https://localhost:8080/"
        },
        "id": "ExOL3P4LZbp-",
        "outputId": "d5190b1c-2207-4bca-ccc0-7c53e1b75c84"
      },
      "execution_count": null,
      "outputs": [
        {
          "output_type": "stream",
          "name": "stdout",
          "text": [
            "Number of unit for electricity : 250\n",
            "1000\n"
          ]
        }
      ]
    },
    {
      "cell_type": "markdown",
      "source": [
        "6. Write a program to accept numbers from 1-7 and display name of day like- 1 for sunday, 2 for Monday and so on."
      ],
      "metadata": {
        "id": "GPchIstz6qf6"
      }
    },
    {
      "cell_type": "code",
      "source": [
        "def get_day_name(day_number):\n",
        "    days = {\n",
        "        1: \"Sunday\",\n",
        "        2: \"Monday\",\n",
        "        3: \"Tuesday\",\n",
        "        4: \"Wednesday\",\n",
        "        5: \"Thursday\",\n",
        "        6: \"Friday\",\n",
        "        7: \"Saturday\"\n",
        "    }\n",
        "\n",
        "    return days.get(day_number, \"Invalid day number\")\n",
        "\n",
        "# Input a number from 1 to 7\n",
        "day_number = int(input(\"Enter a number from 1 to 7: \"))\n",
        "\n",
        "# Get the name of the day using the function\n",
        "day_name = get_day_name(day_number)\n",
        "\n",
        "# Display the name of the day\n",
        "print(\"The name of the day for number\", day_number, \"is:\", day_name)\n"
      ],
      "metadata": {
        "colab": {
          "base_uri": "https://localhost:8080/"
        },
        "id": "jecw-3I6bKtJ",
        "outputId": "9d94a210-23c7-4ff8-ff2a-ef1e8ef27398"
      },
      "execution_count": null,
      "outputs": [
        {
          "output_type": "stream",
          "name": "stdout",
          "text": [
            "Enter a number from 1 to 7: 3\n",
            "The name of the day for number 3 is: Tuesday\n"
          ]
        }
      ]
    },
    {
      "cell_type": "markdown",
      "source": [
        "7. Write a python program to check given word is Palindrome or not"
      ],
      "metadata": {
        "id": "YBu4Q-t-6tuS"
      }
    },
    {
      "cell_type": "code",
      "source": [
        "word = input(\"Enter a word: \")\n",
        "rev = word[::-1]\n",
        "if word == rev:\n",
        "  print(word, \"is a palindrome.\")\n",
        "else:\n",
        "  print(word, \"is not a palindrome.\")"
      ],
      "metadata": {
        "colab": {
          "base_uri": "https://localhost:8080/"
        },
        "id": "ThiBdrI9eMdl",
        "outputId": "34e354f1-46d5-4857-ff2e-aea9fdb358dd"
      },
      "execution_count": null,
      "outputs": [
        {
          "output_type": "stream",
          "name": "stdout",
          "text": [
            "Enter a word: radar\n",
            "radar is a palindrome.\n"
          ]
        }
      ]
    },
    {
      "cell_type": "markdown",
      "source": [
        "8. Download the Dataset- https://www.kaggle.com/datasets/mohamedafsal007/house-price-dataset-of-india\n",
        "Load the dataset."
      ],
      "metadata": {
        "id": "jOxjIpQI6vig"
      }
    },
    {
      "cell_type": "code",
      "source": [
        "import pandas as p\n",
        "df=p.read_csv('House Price India.csv')\n",
        "df"
      ],
      "metadata": {
        "colab": {
          "base_uri": "https://localhost:8080/",
          "height": 495
        },
        "id": "7ZSLfQKxfeYh",
        "outputId": "48b80f43-6f0d-481a-9825-b099bf78553f"
      },
      "execution_count": null,
      "outputs": [
        {
          "output_type": "execute_result",
          "data": {
            "text/plain": [
              "               id   Date  number of bedrooms  number of bathrooms  \\\n",
              "0      6762810145  42491                   5                 2.50   \n",
              "1      6762810635  42491                   4                 2.50   \n",
              "2      6762810998  42491                   5                 2.75   \n",
              "3      6762812605  42491                   4                 2.50   \n",
              "4      6762812919  42491                   3                 2.00   \n",
              "...           ...    ...                 ...                  ...   \n",
              "14615  6762830250  42734                   2                 1.50   \n",
              "14616  6762830339  42734                   3                 2.00   \n",
              "14617  6762830618  42734                   2                 1.00   \n",
              "14618  6762830709  42734                   4                 1.00   \n",
              "14619  6762831463  42734                   3                 1.00   \n",
              "\n",
              "       living area  lot area  number of floors  waterfront present  \\\n",
              "0             3650      9050               2.0                   0   \n",
              "1             2920      4000               1.5                   0   \n",
              "2             2910      9480               1.5                   0   \n",
              "3             3310     42998               2.0                   0   \n",
              "4             2710      4500               1.5                   0   \n",
              "...            ...       ...               ...                 ...   \n",
              "14615         1556     20000               1.0                   0   \n",
              "14616         1680      7000               1.5                   0   \n",
              "14617         1070      6120               1.0                   0   \n",
              "14618         1030      6621               1.0                   0   \n",
              "14619          900      4770               1.0                   0   \n",
              "\n",
              "       number of views  condition of the house  ...  Built Year  \\\n",
              "0                    4                       5  ...        1921   \n",
              "1                    0                       5  ...        1909   \n",
              "2                    0                       3  ...        1939   \n",
              "3                    0                       3  ...        2001   \n",
              "4                    0                       4  ...        1929   \n",
              "...                ...                     ...  ...         ...   \n",
              "14615                0                       4  ...        1957   \n",
              "14616                0                       4  ...        1968   \n",
              "14617                0                       3  ...        1962   \n",
              "14618                0                       4  ...        1955   \n",
              "14619                0                       3  ...        1969   \n",
              "\n",
              "       Renovation Year  Postal Code  Lattitude  Longitude  living_area_renov  \\\n",
              "0                    0       122003    52.8645   -114.557               2880   \n",
              "1                    0       122004    52.8878   -114.470               2470   \n",
              "2                    0       122004    52.8852   -114.468               2940   \n",
              "3                    0       122005    52.9532   -114.321               3350   \n",
              "4                    0       122006    52.9047   -114.485               2060   \n",
              "...                ...          ...        ...        ...                ...   \n",
              "14615                0       122066    52.6191   -114.472               2250   \n",
              "14616                0       122072    52.5075   -114.393               1540   \n",
              "14617                0       122056    52.7289   -114.507               1130   \n",
              "14618                0       122042    52.7157   -114.411               1420   \n",
              "14619             2009       122018    52.5338   -114.552                900   \n",
              "\n",
              "       lot_area_renov  Number of schools nearby  Distance from the airport  \\\n",
              "0                5400                         2                         58   \n",
              "1                4000                         2                         51   \n",
              "2                6600                         1                         53   \n",
              "3               42847                         3                         76   \n",
              "4                4500                         1                         51   \n",
              "...               ...                       ...                        ...   \n",
              "14615           17286                         3                         76   \n",
              "14616            7480                         3                         59   \n",
              "14617            6120                         2                         64   \n",
              "14618            6631                         3                         54   \n",
              "14619            3480                         2                         55   \n",
              "\n",
              "         Price  \n",
              "0      2380000  \n",
              "1      1400000  \n",
              "2      1200000  \n",
              "3       838000  \n",
              "4       805000  \n",
              "...        ...  \n",
              "14615   221700  \n",
              "14616   219200  \n",
              "14617   209000  \n",
              "14618   205000  \n",
              "14619   146000  \n",
              "\n",
              "[14620 rows x 23 columns]"
            ],
            "text/html": [
              "\n",
              "  <div id=\"df-ac7265b4-28e2-4cdc-ad4e-f385322e9006\" class=\"colab-df-container\">\n",
              "    <div>\n",
              "<style scoped>\n",
              "    .dataframe tbody tr th:only-of-type {\n",
              "        vertical-align: middle;\n",
              "    }\n",
              "\n",
              "    .dataframe tbody tr th {\n",
              "        vertical-align: top;\n",
              "    }\n",
              "\n",
              "    .dataframe thead th {\n",
              "        text-align: right;\n",
              "    }\n",
              "</style>\n",
              "<table border=\"1\" class=\"dataframe\">\n",
              "  <thead>\n",
              "    <tr style=\"text-align: right;\">\n",
              "      <th></th>\n",
              "      <th>id</th>\n",
              "      <th>Date</th>\n",
              "      <th>number of bedrooms</th>\n",
              "      <th>number of bathrooms</th>\n",
              "      <th>living area</th>\n",
              "      <th>lot area</th>\n",
              "      <th>number of floors</th>\n",
              "      <th>waterfront present</th>\n",
              "      <th>number of views</th>\n",
              "      <th>condition of the house</th>\n",
              "      <th>...</th>\n",
              "      <th>Built Year</th>\n",
              "      <th>Renovation Year</th>\n",
              "      <th>Postal Code</th>\n",
              "      <th>Lattitude</th>\n",
              "      <th>Longitude</th>\n",
              "      <th>living_area_renov</th>\n",
              "      <th>lot_area_renov</th>\n",
              "      <th>Number of schools nearby</th>\n",
              "      <th>Distance from the airport</th>\n",
              "      <th>Price</th>\n",
              "    </tr>\n",
              "  </thead>\n",
              "  <tbody>\n",
              "    <tr>\n",
              "      <th>0</th>\n",
              "      <td>6762810145</td>\n",
              "      <td>42491</td>\n",
              "      <td>5</td>\n",
              "      <td>2.50</td>\n",
              "      <td>3650</td>\n",
              "      <td>9050</td>\n",
              "      <td>2.0</td>\n",
              "      <td>0</td>\n",
              "      <td>4</td>\n",
              "      <td>5</td>\n",
              "      <td>...</td>\n",
              "      <td>1921</td>\n",
              "      <td>0</td>\n",
              "      <td>122003</td>\n",
              "      <td>52.8645</td>\n",
              "      <td>-114.557</td>\n",
              "      <td>2880</td>\n",
              "      <td>5400</td>\n",
              "      <td>2</td>\n",
              "      <td>58</td>\n",
              "      <td>2380000</td>\n",
              "    </tr>\n",
              "    <tr>\n",
              "      <th>1</th>\n",
              "      <td>6762810635</td>\n",
              "      <td>42491</td>\n",
              "      <td>4</td>\n",
              "      <td>2.50</td>\n",
              "      <td>2920</td>\n",
              "      <td>4000</td>\n",
              "      <td>1.5</td>\n",
              "      <td>0</td>\n",
              "      <td>0</td>\n",
              "      <td>5</td>\n",
              "      <td>...</td>\n",
              "      <td>1909</td>\n",
              "      <td>0</td>\n",
              "      <td>122004</td>\n",
              "      <td>52.8878</td>\n",
              "      <td>-114.470</td>\n",
              "      <td>2470</td>\n",
              "      <td>4000</td>\n",
              "      <td>2</td>\n",
              "      <td>51</td>\n",
              "      <td>1400000</td>\n",
              "    </tr>\n",
              "    <tr>\n",
              "      <th>2</th>\n",
              "      <td>6762810998</td>\n",
              "      <td>42491</td>\n",
              "      <td>5</td>\n",
              "      <td>2.75</td>\n",
              "      <td>2910</td>\n",
              "      <td>9480</td>\n",
              "      <td>1.5</td>\n",
              "      <td>0</td>\n",
              "      <td>0</td>\n",
              "      <td>3</td>\n",
              "      <td>...</td>\n",
              "      <td>1939</td>\n",
              "      <td>0</td>\n",
              "      <td>122004</td>\n",
              "      <td>52.8852</td>\n",
              "      <td>-114.468</td>\n",
              "      <td>2940</td>\n",
              "      <td>6600</td>\n",
              "      <td>1</td>\n",
              "      <td>53</td>\n",
              "      <td>1200000</td>\n",
              "    </tr>\n",
              "    <tr>\n",
              "      <th>3</th>\n",
              "      <td>6762812605</td>\n",
              "      <td>42491</td>\n",
              "      <td>4</td>\n",
              "      <td>2.50</td>\n",
              "      <td>3310</td>\n",
              "      <td>42998</td>\n",
              "      <td>2.0</td>\n",
              "      <td>0</td>\n",
              "      <td>0</td>\n",
              "      <td>3</td>\n",
              "      <td>...</td>\n",
              "      <td>2001</td>\n",
              "      <td>0</td>\n",
              "      <td>122005</td>\n",
              "      <td>52.9532</td>\n",
              "      <td>-114.321</td>\n",
              "      <td>3350</td>\n",
              "      <td>42847</td>\n",
              "      <td>3</td>\n",
              "      <td>76</td>\n",
              "      <td>838000</td>\n",
              "    </tr>\n",
              "    <tr>\n",
              "      <th>4</th>\n",
              "      <td>6762812919</td>\n",
              "      <td>42491</td>\n",
              "      <td>3</td>\n",
              "      <td>2.00</td>\n",
              "      <td>2710</td>\n",
              "      <td>4500</td>\n",
              "      <td>1.5</td>\n",
              "      <td>0</td>\n",
              "      <td>0</td>\n",
              "      <td>4</td>\n",
              "      <td>...</td>\n",
              "      <td>1929</td>\n",
              "      <td>0</td>\n",
              "      <td>122006</td>\n",
              "      <td>52.9047</td>\n",
              "      <td>-114.485</td>\n",
              "      <td>2060</td>\n",
              "      <td>4500</td>\n",
              "      <td>1</td>\n",
              "      <td>51</td>\n",
              "      <td>805000</td>\n",
              "    </tr>\n",
              "    <tr>\n",
              "      <th>...</th>\n",
              "      <td>...</td>\n",
              "      <td>...</td>\n",
              "      <td>...</td>\n",
              "      <td>...</td>\n",
              "      <td>...</td>\n",
              "      <td>...</td>\n",
              "      <td>...</td>\n",
              "      <td>...</td>\n",
              "      <td>...</td>\n",
              "      <td>...</td>\n",
              "      <td>...</td>\n",
              "      <td>...</td>\n",
              "      <td>...</td>\n",
              "      <td>...</td>\n",
              "      <td>...</td>\n",
              "      <td>...</td>\n",
              "      <td>...</td>\n",
              "      <td>...</td>\n",
              "      <td>...</td>\n",
              "      <td>...</td>\n",
              "      <td>...</td>\n",
              "    </tr>\n",
              "    <tr>\n",
              "      <th>14615</th>\n",
              "      <td>6762830250</td>\n",
              "      <td>42734</td>\n",
              "      <td>2</td>\n",
              "      <td>1.50</td>\n",
              "      <td>1556</td>\n",
              "      <td>20000</td>\n",
              "      <td>1.0</td>\n",
              "      <td>0</td>\n",
              "      <td>0</td>\n",
              "      <td>4</td>\n",
              "      <td>...</td>\n",
              "      <td>1957</td>\n",
              "      <td>0</td>\n",
              "      <td>122066</td>\n",
              "      <td>52.6191</td>\n",
              "      <td>-114.472</td>\n",
              "      <td>2250</td>\n",
              "      <td>17286</td>\n",
              "      <td>3</td>\n",
              "      <td>76</td>\n",
              "      <td>221700</td>\n",
              "    </tr>\n",
              "    <tr>\n",
              "      <th>14616</th>\n",
              "      <td>6762830339</td>\n",
              "      <td>42734</td>\n",
              "      <td>3</td>\n",
              "      <td>2.00</td>\n",
              "      <td>1680</td>\n",
              "      <td>7000</td>\n",
              "      <td>1.5</td>\n",
              "      <td>0</td>\n",
              "      <td>0</td>\n",
              "      <td>4</td>\n",
              "      <td>...</td>\n",
              "      <td>1968</td>\n",
              "      <td>0</td>\n",
              "      <td>122072</td>\n",
              "      <td>52.5075</td>\n",
              "      <td>-114.393</td>\n",
              "      <td>1540</td>\n",
              "      <td>7480</td>\n",
              "      <td>3</td>\n",
              "      <td>59</td>\n",
              "      <td>219200</td>\n",
              "    </tr>\n",
              "    <tr>\n",
              "      <th>14617</th>\n",
              "      <td>6762830618</td>\n",
              "      <td>42734</td>\n",
              "      <td>2</td>\n",
              "      <td>1.00</td>\n",
              "      <td>1070</td>\n",
              "      <td>6120</td>\n",
              "      <td>1.0</td>\n",
              "      <td>0</td>\n",
              "      <td>0</td>\n",
              "      <td>3</td>\n",
              "      <td>...</td>\n",
              "      <td>1962</td>\n",
              "      <td>0</td>\n",
              "      <td>122056</td>\n",
              "      <td>52.7289</td>\n",
              "      <td>-114.507</td>\n",
              "      <td>1130</td>\n",
              "      <td>6120</td>\n",
              "      <td>2</td>\n",
              "      <td>64</td>\n",
              "      <td>209000</td>\n",
              "    </tr>\n",
              "    <tr>\n",
              "      <th>14618</th>\n",
              "      <td>6762830709</td>\n",
              "      <td>42734</td>\n",
              "      <td>4</td>\n",
              "      <td>1.00</td>\n",
              "      <td>1030</td>\n",
              "      <td>6621</td>\n",
              "      <td>1.0</td>\n",
              "      <td>0</td>\n",
              "      <td>0</td>\n",
              "      <td>4</td>\n",
              "      <td>...</td>\n",
              "      <td>1955</td>\n",
              "      <td>0</td>\n",
              "      <td>122042</td>\n",
              "      <td>52.7157</td>\n",
              "      <td>-114.411</td>\n",
              "      <td>1420</td>\n",
              "      <td>6631</td>\n",
              "      <td>3</td>\n",
              "      <td>54</td>\n",
              "      <td>205000</td>\n",
              "    </tr>\n",
              "    <tr>\n",
              "      <th>14619</th>\n",
              "      <td>6762831463</td>\n",
              "      <td>42734</td>\n",
              "      <td>3</td>\n",
              "      <td>1.00</td>\n",
              "      <td>900</td>\n",
              "      <td>4770</td>\n",
              "      <td>1.0</td>\n",
              "      <td>0</td>\n",
              "      <td>0</td>\n",
              "      <td>3</td>\n",
              "      <td>...</td>\n",
              "      <td>1969</td>\n",
              "      <td>2009</td>\n",
              "      <td>122018</td>\n",
              "      <td>52.5338</td>\n",
              "      <td>-114.552</td>\n",
              "      <td>900</td>\n",
              "      <td>3480</td>\n",
              "      <td>2</td>\n",
              "      <td>55</td>\n",
              "      <td>146000</td>\n",
              "    </tr>\n",
              "  </tbody>\n",
              "</table>\n",
              "<p>14620 rows × 23 columns</p>\n",
              "</div>\n",
              "    <div class=\"colab-df-buttons\">\n",
              "\n",
              "  <div class=\"colab-df-container\">\n",
              "    <button class=\"colab-df-convert\" onclick=\"convertToInteractive('df-ac7265b4-28e2-4cdc-ad4e-f385322e9006')\"\n",
              "            title=\"Convert this dataframe to an interactive table.\"\n",
              "            style=\"display:none;\">\n",
              "\n",
              "  <svg xmlns=\"http://www.w3.org/2000/svg\" height=\"24px\" viewBox=\"0 -960 960 960\">\n",
              "    <path d=\"M120-120v-720h720v720H120Zm60-500h600v-160H180v160Zm220 220h160v-160H400v160Zm0 220h160v-160H400v160ZM180-400h160v-160H180v160Zm440 0h160v-160H620v160ZM180-180h160v-160H180v160Zm440 0h160v-160H620v160Z\"/>\n",
              "  </svg>\n",
              "    </button>\n",
              "\n",
              "  <style>\n",
              "    .colab-df-container {\n",
              "      display:flex;\n",
              "      gap: 12px;\n",
              "    }\n",
              "\n",
              "    .colab-df-convert {\n",
              "      background-color: #E8F0FE;\n",
              "      border: none;\n",
              "      border-radius: 50%;\n",
              "      cursor: pointer;\n",
              "      display: none;\n",
              "      fill: #1967D2;\n",
              "      height: 32px;\n",
              "      padding: 0 0 0 0;\n",
              "      width: 32px;\n",
              "    }\n",
              "\n",
              "    .colab-df-convert:hover {\n",
              "      background-color: #E2EBFA;\n",
              "      box-shadow: 0px 1px 2px rgba(60, 64, 67, 0.3), 0px 1px 3px 1px rgba(60, 64, 67, 0.15);\n",
              "      fill: #174EA6;\n",
              "    }\n",
              "\n",
              "    .colab-df-buttons div {\n",
              "      margin-bottom: 4px;\n",
              "    }\n",
              "\n",
              "    [theme=dark] .colab-df-convert {\n",
              "      background-color: #3B4455;\n",
              "      fill: #D2E3FC;\n",
              "    }\n",
              "\n",
              "    [theme=dark] .colab-df-convert:hover {\n",
              "      background-color: #434B5C;\n",
              "      box-shadow: 0px 1px 3px 1px rgba(0, 0, 0, 0.15);\n",
              "      filter: drop-shadow(0px 1px 2px rgba(0, 0, 0, 0.3));\n",
              "      fill: #FFFFFF;\n",
              "    }\n",
              "  </style>\n",
              "\n",
              "    <script>\n",
              "      const buttonEl =\n",
              "        document.querySelector('#df-ac7265b4-28e2-4cdc-ad4e-f385322e9006 button.colab-df-convert');\n",
              "      buttonEl.style.display =\n",
              "        google.colab.kernel.accessAllowed ? 'block' : 'none';\n",
              "\n",
              "      async function convertToInteractive(key) {\n",
              "        const element = document.querySelector('#df-ac7265b4-28e2-4cdc-ad4e-f385322e9006');\n",
              "        const dataTable =\n",
              "          await google.colab.kernel.invokeFunction('convertToInteractive',\n",
              "                                                    [key], {});\n",
              "        if (!dataTable) return;\n",
              "\n",
              "        const docLinkHtml = 'Like what you see? Visit the ' +\n",
              "          '<a target=\"_blank\" href=https://colab.research.google.com/notebooks/data_table.ipynb>data table notebook</a>'\n",
              "          + ' to learn more about interactive tables.';\n",
              "        element.innerHTML = '';\n",
              "        dataTable['output_type'] = 'display_data';\n",
              "        await google.colab.output.renderOutput(dataTable, element);\n",
              "        const docLink = document.createElement('div');\n",
              "        docLink.innerHTML = docLinkHtml;\n",
              "        element.appendChild(docLink);\n",
              "      }\n",
              "    </script>\n",
              "  </div>\n",
              "\n",
              "\n",
              "<div id=\"df-7ad28ed4-0c75-4adf-b592-4b5ebec3d725\">\n",
              "  <button class=\"colab-df-quickchart\" onclick=\"quickchart('df-7ad28ed4-0c75-4adf-b592-4b5ebec3d725')\"\n",
              "            title=\"Suggest charts\"\n",
              "            style=\"display:none;\">\n",
              "\n",
              "<svg xmlns=\"http://www.w3.org/2000/svg\" height=\"24px\"viewBox=\"0 0 24 24\"\n",
              "     width=\"24px\">\n",
              "    <g>\n",
              "        <path d=\"M19 3H5c-1.1 0-2 .9-2 2v14c0 1.1.9 2 2 2h14c1.1 0 2-.9 2-2V5c0-1.1-.9-2-2-2zM9 17H7v-7h2v7zm4 0h-2V7h2v10zm4 0h-2v-4h2v4z\"/>\n",
              "    </g>\n",
              "</svg>\n",
              "  </button>\n",
              "\n",
              "<style>\n",
              "  .colab-df-quickchart {\n",
              "      --bg-color: #E8F0FE;\n",
              "      --fill-color: #1967D2;\n",
              "      --hover-bg-color: #E2EBFA;\n",
              "      --hover-fill-color: #174EA6;\n",
              "      --disabled-fill-color: #AAA;\n",
              "      --disabled-bg-color: #DDD;\n",
              "  }\n",
              "\n",
              "  [theme=dark] .colab-df-quickchart {\n",
              "      --bg-color: #3B4455;\n",
              "      --fill-color: #D2E3FC;\n",
              "      --hover-bg-color: #434B5C;\n",
              "      --hover-fill-color: #FFFFFF;\n",
              "      --disabled-bg-color: #3B4455;\n",
              "      --disabled-fill-color: #666;\n",
              "  }\n",
              "\n",
              "  .colab-df-quickchart {\n",
              "    background-color: var(--bg-color);\n",
              "    border: none;\n",
              "    border-radius: 50%;\n",
              "    cursor: pointer;\n",
              "    display: none;\n",
              "    fill: var(--fill-color);\n",
              "    height: 32px;\n",
              "    padding: 0;\n",
              "    width: 32px;\n",
              "  }\n",
              "\n",
              "  .colab-df-quickchart:hover {\n",
              "    background-color: var(--hover-bg-color);\n",
              "    box-shadow: 0 1px 2px rgba(60, 64, 67, 0.3), 0 1px 3px 1px rgba(60, 64, 67, 0.15);\n",
              "    fill: var(--button-hover-fill-color);\n",
              "  }\n",
              "\n",
              "  .colab-df-quickchart-complete:disabled,\n",
              "  .colab-df-quickchart-complete:disabled:hover {\n",
              "    background-color: var(--disabled-bg-color);\n",
              "    fill: var(--disabled-fill-color);\n",
              "    box-shadow: none;\n",
              "  }\n",
              "\n",
              "  .colab-df-spinner {\n",
              "    border: 2px solid var(--fill-color);\n",
              "    border-color: transparent;\n",
              "    border-bottom-color: var(--fill-color);\n",
              "    animation:\n",
              "      spin 1s steps(1) infinite;\n",
              "  }\n",
              "\n",
              "  @keyframes spin {\n",
              "    0% {\n",
              "      border-color: transparent;\n",
              "      border-bottom-color: var(--fill-color);\n",
              "      border-left-color: var(--fill-color);\n",
              "    }\n",
              "    20% {\n",
              "      border-color: transparent;\n",
              "      border-left-color: var(--fill-color);\n",
              "      border-top-color: var(--fill-color);\n",
              "    }\n",
              "    30% {\n",
              "      border-color: transparent;\n",
              "      border-left-color: var(--fill-color);\n",
              "      border-top-color: var(--fill-color);\n",
              "      border-right-color: var(--fill-color);\n",
              "    }\n",
              "    40% {\n",
              "      border-color: transparent;\n",
              "      border-right-color: var(--fill-color);\n",
              "      border-top-color: var(--fill-color);\n",
              "    }\n",
              "    60% {\n",
              "      border-color: transparent;\n",
              "      border-right-color: var(--fill-color);\n",
              "    }\n",
              "    80% {\n",
              "      border-color: transparent;\n",
              "      border-right-color: var(--fill-color);\n",
              "      border-bottom-color: var(--fill-color);\n",
              "    }\n",
              "    90% {\n",
              "      border-color: transparent;\n",
              "      border-bottom-color: var(--fill-color);\n",
              "    }\n",
              "  }\n",
              "</style>\n",
              "\n",
              "  <script>\n",
              "    async function quickchart(key) {\n",
              "      const quickchartButtonEl =\n",
              "        document.querySelector('#' + key + ' button');\n",
              "      quickchartButtonEl.disabled = true;  // To prevent multiple clicks.\n",
              "      quickchartButtonEl.classList.add('colab-df-spinner');\n",
              "      try {\n",
              "        const charts = await google.colab.kernel.invokeFunction(\n",
              "            'suggestCharts', [key], {});\n",
              "      } catch (error) {\n",
              "        console.error('Error during call to suggestCharts:', error);\n",
              "      }\n",
              "      quickchartButtonEl.classList.remove('colab-df-spinner');\n",
              "      quickchartButtonEl.classList.add('colab-df-quickchart-complete');\n",
              "    }\n",
              "    (() => {\n",
              "      let quickchartButtonEl =\n",
              "        document.querySelector('#df-7ad28ed4-0c75-4adf-b592-4b5ebec3d725 button');\n",
              "      quickchartButtonEl.style.display =\n",
              "        google.colab.kernel.accessAllowed ? 'block' : 'none';\n",
              "    })();\n",
              "  </script>\n",
              "</div>\n",
              "\n",
              "  <div id=\"id_8b7d184b-91d4-44ab-a48e-0b99529a2b7c\">\n",
              "    <style>\n",
              "      .colab-df-generate {\n",
              "        background-color: #E8F0FE;\n",
              "        border: none;\n",
              "        border-radius: 50%;\n",
              "        cursor: pointer;\n",
              "        display: none;\n",
              "        fill: #1967D2;\n",
              "        height: 32px;\n",
              "        padding: 0 0 0 0;\n",
              "        width: 32px;\n",
              "      }\n",
              "\n",
              "      .colab-df-generate:hover {\n",
              "        background-color: #E2EBFA;\n",
              "        box-shadow: 0px 1px 2px rgba(60, 64, 67, 0.3), 0px 1px 3px 1px rgba(60, 64, 67, 0.15);\n",
              "        fill: #174EA6;\n",
              "      }\n",
              "\n",
              "      [theme=dark] .colab-df-generate {\n",
              "        background-color: #3B4455;\n",
              "        fill: #D2E3FC;\n",
              "      }\n",
              "\n",
              "      [theme=dark] .colab-df-generate:hover {\n",
              "        background-color: #434B5C;\n",
              "        box-shadow: 0px 1px 3px 1px rgba(0, 0, 0, 0.15);\n",
              "        filter: drop-shadow(0px 1px 2px rgba(0, 0, 0, 0.3));\n",
              "        fill: #FFFFFF;\n",
              "      }\n",
              "    </style>\n",
              "    <button class=\"colab-df-generate\" onclick=\"generateWithVariable('df')\"\n",
              "            title=\"Generate code using this dataframe.\"\n",
              "            style=\"display:none;\">\n",
              "\n",
              "  <svg xmlns=\"http://www.w3.org/2000/svg\" height=\"24px\"viewBox=\"0 0 24 24\"\n",
              "       width=\"24px\">\n",
              "    <path d=\"M7,19H8.4L18.45,9,17,7.55,7,17.6ZM5,21V16.75L18.45,3.32a2,2,0,0,1,2.83,0l1.4,1.43a1.91,1.91,0,0,1,.58,1.4,1.91,1.91,0,0,1-.58,1.4L9.25,21ZM18.45,9,17,7.55Zm-12,3A5.31,5.31,0,0,0,4.9,8.1,5.31,5.31,0,0,0,1,6.5,5.31,5.31,0,0,0,4.9,4.9,5.31,5.31,0,0,0,6.5,1,5.31,5.31,0,0,0,8.1,4.9,5.31,5.31,0,0,0,12,6.5,5.46,5.46,0,0,0,6.5,12Z\"/>\n",
              "  </svg>\n",
              "    </button>\n",
              "    <script>\n",
              "      (() => {\n",
              "      const buttonEl =\n",
              "        document.querySelector('#id_8b7d184b-91d4-44ab-a48e-0b99529a2b7c button.colab-df-generate');\n",
              "      buttonEl.style.display =\n",
              "        google.colab.kernel.accessAllowed ? 'block' : 'none';\n",
              "\n",
              "      buttonEl.onclick = () => {\n",
              "        google.colab.notebook.generateWithVariable('df');\n",
              "      }\n",
              "      })();\n",
              "    </script>\n",
              "  </div>\n",
              "\n",
              "    </div>\n",
              "  </div>\n"
            ],
            "application/vnd.google.colaboratory.intrinsic+json": {
              "type": "dataframe",
              "variable_name": "df"
            }
          },
          "metadata": {},
          "execution_count": 9
        }
      ]
    },
    {
      "cell_type": "markdown",
      "source": [
        "9. Perform Univariate Analysis"
      ],
      "metadata": {
        "id": "DAK97Oan6x9g"
      }
    },
    {
      "cell_type": "code",
      "source": [
        "df.columns#identifying columns"
      ],
      "metadata": {
        "colab": {
          "base_uri": "https://localhost:8080/"
        },
        "id": "jyRL32zWgb9K",
        "outputId": "869cfb47-5e4b-41d8-97d9-fc2a267382b5"
      },
      "execution_count": null,
      "outputs": [
        {
          "output_type": "execute_result",
          "data": {
            "text/plain": [
              "Index(['id', 'Date', 'number of bedrooms', 'number of bathrooms',\n",
              "       'living area', 'lot area', 'number of floors', 'waterfront present',\n",
              "       'number of views', 'condition of the house', 'grade of the house',\n",
              "       'Area of the house(excluding basement)', 'Area of the basement',\n",
              "       'Built Year', 'Renovation Year', 'Postal Code', 'Lattitude',\n",
              "       'Longitude', 'living_area_renov', 'lot_area_renov',\n",
              "       'Number of schools nearby', 'Distance from the airport', 'Price'],\n",
              "      dtype='object')"
            ]
          },
          "metadata": {},
          "execution_count": 10
        }
      ]
    },
    {
      "cell_type": "code",
      "source": [
        "#checking data types\n",
        "df.dtypes"
      ],
      "metadata": {
        "colab": {
          "base_uri": "https://localhost:8080/"
        },
        "id": "brY0_QQDgepm",
        "outputId": "ee4b3ea7-fb0d-4287-b0a1-8770ae7477f7"
      },
      "execution_count": null,
      "outputs": [
        {
          "output_type": "execute_result",
          "data": {
            "text/plain": [
              "id                                         int64\n",
              "Date                                       int64\n",
              "number of bedrooms                         int64\n",
              "number of bathrooms                      float64\n",
              "living area                                int64\n",
              "lot area                                   int64\n",
              "number of floors                         float64\n",
              "waterfront present                         int64\n",
              "number of views                            int64\n",
              "condition of the house                     int64\n",
              "grade of the house                         int64\n",
              "Area of the house(excluding basement)      int64\n",
              "Area of the basement                       int64\n",
              "Built Year                                 int64\n",
              "Renovation Year                            int64\n",
              "Postal Code                                int64\n",
              "Lattitude                                float64\n",
              "Longitude                                float64\n",
              "living_area_renov                          int64\n",
              "lot_area_renov                             int64\n",
              "Number of schools nearby                   int64\n",
              "Distance from the airport                  int64\n",
              "Price                                      int64\n",
              "dtype: object"
            ]
          },
          "metadata": {},
          "execution_count": 11
        }
      ]
    },
    {
      "cell_type": "code",
      "source": [
        "df['number of bedrooms'].mean()#calculation mean for no.of bedroom column"
      ],
      "metadata": {
        "colab": {
          "base_uri": "https://localhost:8080/"
        },
        "id": "uaZRH1sigqCs",
        "outputId": "485e82c8-deb6-4c67-b88f-71884f0c92af"
      },
      "execution_count": null,
      "outputs": [
        {
          "output_type": "execute_result",
          "data": {
            "text/plain": [
              "3.379343365253078"
            ]
          },
          "metadata": {},
          "execution_count": 12
        }
      ]
    },
    {
      "cell_type": "code",
      "source": [
        "df['number of bedrooms'].median()#calculation median for no.of bedroom column"
      ],
      "metadata": {
        "colab": {
          "base_uri": "https://localhost:8080/"
        },
        "id": "TslOmPPahhB9",
        "outputId": "9ce7fd72-d786-4251-dfed-1fec723bd6bc"
      },
      "execution_count": null,
      "outputs": [
        {
          "output_type": "execute_result",
          "data": {
            "text/plain": [
              "3.0"
            ]
          },
          "metadata": {},
          "execution_count": 13
        }
      ]
    },
    {
      "cell_type": "code",
      "source": [
        "df['number of bedrooms'].mode()#calculation mode for no.of bedroom column"
      ],
      "metadata": {
        "colab": {
          "base_uri": "https://localhost:8080/"
        },
        "id": "eX3pcWwehpJJ",
        "outputId": "4d3e5373-d986-4698-baaf-6b32dd61f839"
      },
      "execution_count": null,
      "outputs": [
        {
          "output_type": "execute_result",
          "data": {
            "text/plain": [
              "0    3\n",
              "Name: number of bedrooms, dtype: int64"
            ]
          },
          "metadata": {},
          "execution_count": 14
        }
      ]
    },
    {
      "cell_type": "code",
      "source": [
        "df['number of bedrooms'].std()#calculation standard deviation for no.of bedroom column"
      ],
      "metadata": {
        "colab": {
          "base_uri": "https://localhost:8080/"
        },
        "id": "yuYd3q3lhtQl",
        "outputId": "957637cf-2957-4eb8-90bb-0af7e2e3ba58"
      },
      "execution_count": null,
      "outputs": [
        {
          "output_type": "execute_result",
          "data": {
            "text/plain": [
              "0.9387188525270168"
            ]
          },
          "metadata": {},
          "execution_count": 15
        }
      ]
    },
    {
      "cell_type": "code",
      "source": [
        "import matplotlib.pyplot as plt\n",
        "import seaborn as sns\n",
        "\n",
        "df.boxplot(column=['number of floors'], grid=False, color='black')"
      ],
      "metadata": {
        "colab": {
          "base_uri": "https://localhost:8080/",
          "height": 447
        },
        "id": "JM-_y9LH1-WA",
        "outputId": "5c3eec44-df9d-46b7-94c2-d4ed012c195f"
      },
      "execution_count": null,
      "outputs": [
        {
          "output_type": "execute_result",
          "data": {
            "text/plain": [
              "<Axes: >"
            ]
          },
          "metadata": {},
          "execution_count": 22
        },
        {
          "output_type": "display_data",
          "data": {
            "text/plain": [
              "<Figure size 640x480 with 1 Axes>"
            ],
            "image/png": "[encoded data removed]"
          },
          "metadata": {}
        }
      ]
    },
    {
      "cell_type": "code",
      "source": [
        "df.hist(column='number of floors', grid=False, color='cyan',edgecolor='black')"
      ],
      "metadata": {
        "colab": {
          "base_uri": "https://localhost:8080/",
          "height": 469
        },
        "id": "JpamDDlM2HD7",
        "outputId": "84d0db3e-d0ea-4644-ae38-7bf5b550c0e3"
      },
      "execution_count": null,
      "outputs": [
        {
          "output_type": "execute_result",
          "data": {
            "text/plain": [
              "array([[<Axes: title={'center': 'number of floors'}>]], dtype=object)"
            ]
          },
          "metadata": {},
          "execution_count": 23
        },
        {
          "output_type": "display_data",
          "data": {
            "text/plain": [
              "<Figure size 640x480 with 1 Axes>"
            ],
            "image/png": "[encoded data removed]"
          },
          "metadata": {}
        }
      ]
    },
    {
      "cell_type": "code",
      "source": [
        "!pip install scipy\n",
        "# The error is caused by a typo in the function name.\n",
        "# The correct function name is `displot` not `kdplot`.\n",
        "sns.displot(df['number of floors'])"
      ],
      "metadata": {
        "colab": {
          "base_uri": "https://localhost:8080/",
          "height": 558
        },
        "id": "wcmsPMSG2LzQ",
        "outputId": "ca1dc4ac-5217-4aa5-9928-8495a11070da"
      },
      "execution_count": null,
      "outputs": [
        {
          "output_type": "stream",
          "name": "stdout",
          "text": [
            "Requirement already satisfied: scipy in /usr/local/lib/python3.10/dist-packages (1.11.4)\n",
            "Requirement already satisfied: numpy<1.28.0,>=1.21.6 in /usr/local/lib/python3.10/dist-packages (from scipy) (1.25.2)\n"
          ]
        },
        {
          "output_type": "execute_result",
          "data": {
            "text/plain": [
              "<seaborn.axisgrid.FacetGrid at 0x7e25b09dabc0>"
            ]
          },
          "metadata": {},
          "execution_count": 24
        },
        {
          "output_type": "display_data",
          "data": {
            "text/plain": [
              "<Figure size 500x500 with 1 Axes>"
            ],
            "image/png": "[encoded data removed]"
          },
          "metadata": {}
        }
      ]
    },
    {
      "cell_type": "code",
      "source": [
        "#Univariate Analysis:\n",
        "df['living_area_renov'].describe()  # Get summary statistics (mean, std, quartiles, etc.)\n",
        "plt.hist(df['living_area_renov'])  # Create a histogram to visualize distribution\n"
      ],
      "metadata": {
        "colab": {
          "base_uri": "https://localhost:8080/",
          "height": 517
        },
        "id": "WXLjZato2Ooi",
        "outputId": "1ace1279-def5-4284-cfd9-61afd62c931b"
      },
      "execution_count": null,
      "outputs": [
        {
          "output_type": "execute_result",
          "data": {
            "text/plain": [
              "(array([ 310., 4449., 4920., 2748., 1406.,  525.,  187.,   60.,    9.,\n",
              "           6.]),\n",
              " array([ 460., 1025., 1590., 2155., 2720., 3285., 3850., 4415., 4980.,\n",
              "        5545., 6110.]),\n",
              " <BarContainer object of 10 artists>)"
            ]
          },
          "metadata": {},
          "execution_count": 25
        },
        {
          "output_type": "display_data",
          "data": {
            "text/plain": [
              "<Figure size 640x480 with 1 Axes>"
            ],
            "image/png": "[encoded data removed]"
          },
          "metadata": {}
        }
      ]
    },
    {
      "cell_type": "code",
      "source": [
        "plt.boxplot(df['living_area_renov'])  # Create a boxplot to identify outliers"
      ],
      "metadata": {
        "colab": {
          "base_uri": "https://localhost:8080/",
          "height": 569
        },
        "id": "gonOpyJA2Rbw",
        "outputId": "3b4ff2d3-6269-4f23-c1ce-cd1284f42f67"
      },
      "execution_count": null,
      "outputs": [
        {
          "output_type": "execute_result",
          "data": {
            "text/plain": [
              "{'whiskers': [<matplotlib.lines.Line2D at 0x7e25b0798e50>,\n",
              "  <matplotlib.lines.Line2D at 0x7e25b07990f0>],\n",
              " 'caps': [<matplotlib.lines.Line2D at 0x7e25b0799390>,\n",
              "  <matplotlib.lines.Line2D at 0x7e25b0799630>],\n",
              " 'boxes': [<matplotlib.lines.Line2D at 0x7e25b0798bb0>],\n",
              " 'medians': [<matplotlib.lines.Line2D at 0x7e25b07998d0>],\n",
              " 'fliers': [<matplotlib.lines.Line2D at 0x7e25b0799b70>],\n",
              " 'means': []}"
            ]
          },
          "metadata": {},
          "execution_count": 26
        },
        {
          "output_type": "display_data",
          "data": {
            "text/plain": [
              "<Figure size 640x480 with 1 Axes>"
            ],
            "image/png": "[encoded data removed]"
          },
          "metadata": {}
        }
      ]
    },
    {
      "cell_type": "code",
      "source": [
        "df['lot_area_renov'].isnull().sum()"
      ],
      "metadata": {
        "colab": {
          "base_uri": "https://localhost:8080/"
        },
        "id": "em7lI95Q2ULr",
        "outputId": "3f45ff44-82b5-442f-df46-453632094279"
      },
      "execution_count": null,
      "outputs": [
        {
          "output_type": "execute_result",
          "data": {
            "text/plain": [
              "0"
            ]
          },
          "metadata": {},
          "execution_count": 27
        }
      ]
    },
    {
      "cell_type": "code",
      "source": [
        "# Example: Analyze 'location' (assuming it's a categorical column)\n",
        "df['Distance from the airport'].value_counts()  # Count occurrences of each category\n",
        "df.groupby('Distance from the airport')['Price'].mean()  # Calculate average price by location"
      ],
      "metadata": {
        "colab": {
          "base_uri": "https://localhost:8080/"
        },
        "id": "TnbBBER32dqg",
        "outputId": "67209694-b1e7-4316-ebcb-9e63d8a0193b"
      },
      "execution_count": null,
      "outputs": [
        {
          "output_type": "execute_result",
          "data": {
            "text/plain": [
              "Distance from the airport\n",
              "50    544268.753535\n",
              "51    555694.886878\n",
              "52    527842.948546\n",
              "53    550654.669421\n",
              "54    519693.616732\n",
              "55    522895.038055\n",
              "56    504686.681818\n",
              "57    545503.269807\n",
              "58    533601.559072\n",
              "59    531446.064315\n",
              "60    531227.802469\n",
              "61    536510.740406\n",
              "62    547703.059574\n",
              "63    568868.388521\n",
              "64    539810.326000\n",
              "65    537195.464126\n",
              "66    566744.738298\n",
              "67    552633.577320\n",
              "68    514997.164811\n",
              "69    533734.372141\n",
              "70    548290.168297\n",
              "71    541538.597849\n",
              "72    538865.006369\n",
              "73    581298.257511\n",
              "74    494611.464968\n",
              "75    569316.978541\n",
              "76    517567.475983\n",
              "77    559549.967742\n",
              "78    488442.494577\n",
              "79    561717.018480\n",
              "80    540552.306167\n",
              "Name: Price, dtype: float64"
            ]
          },
          "metadata": {},
          "execution_count": 28
        }
      ]
    },
    {
      "cell_type": "code",
      "source": [
        "# Example: Analyze the distribution of 'price' across different 'location' categories\n",
        "df.boxplot(by='Distance from the airport', column='Price')  # Create a boxplot by category"
      ],
      "metadata": {
        "colab": {
          "base_uri": "https://localhost:8080/",
          "height": 495
        },
        "id": "14LTw9jA2hBu",
        "outputId": "4ecaa07d-188e-46f3-eb81-804f4b87c393"
      },
      "execution_count": null,
      "outputs": [
        {
          "output_type": "execute_result",
          "data": {
            "text/plain": [
              "<Axes: title={'center': 'Price'}, xlabel='Distance from the airport'>"
            ]
          },
          "metadata": {},
          "execution_count": 29
        },
        {
          "output_type": "display_data",
          "data": {
            "text/plain": [
              "<Figure size 640x480 with 1 Axes>"
            ],
            "image/png": "[encoded data removed]"
          },
          "metadata": {}
        }
      ]
    },
    {
      "cell_type": "markdown",
      "source": [
        "10. Perform Bivariate Analysis"
      ],
      "metadata": {
        "id": "zUXt-neR60sH"
      }
    },
    {
      "cell_type": "code",
      "source": [
        "df['number of bedrooms'].corr(df['number of bedrooms'])"
      ],
      "metadata": {
        "colab": {
          "base_uri": "https://localhost:8080/"
        },
        "id": "s9g8hnK4llk8",
        "outputId": "0a2852be-89ef-485f-ce05-55cfe3425dde"
      },
      "execution_count": null,
      "outputs": [
        {
          "output_type": "execute_result",
          "data": {
            "text/plain": [
              "1.0"
            ]
          },
          "metadata": {},
          "execution_count": 30
        }
      ]
    },
    {
      "cell_type": "markdown",
      "source": [
        "11. Perform Descriptive Statistics"
      ],
      "metadata": {
        "id": "yk7oDlSC62_E"
      }
    },
    {
      "cell_type": "code",
      "source": [
        "df.describe()"
      ],
      "metadata": {
        "id": "Z4zjJleO66IH",
        "colab": {
          "base_uri": "https://localhost:8080/",
          "height": 384
        },
        "outputId": "5a90a84f-1783-4bb2-d30b-6a0c9281d286"
      },
      "execution_count": null,
      "outputs": [
        {
          "output_type": "execute_result",
          "data": {
            "text/plain": [
              "                 id          Date  number of bedrooms  number of bathrooms  \\\n",
              "count  1.462000e+04  14620.000000        14620.000000         14620.000000   \n",
              "mean   6.762821e+09  42604.538646            3.379343             2.129583   \n",
              "std    6.237575e+03     67.347991            0.938719             0.769934   \n",
              "min    6.762810e+09  42491.000000            1.000000             0.500000   \n",
              "25%    6.762815e+09  42546.000000            3.000000             1.750000   \n",
              "50%    6.762821e+09  42600.000000            3.000000             2.250000   \n",
              "75%    6.762826e+09  42662.000000            4.000000             2.500000   \n",
              "max    6.762832e+09  42734.000000           33.000000             8.000000   \n",
              "\n",
              "        living area      lot area  number of floors  waterfront present  \\\n",
              "count  14620.000000  1.462000e+04      14620.000000        14620.000000   \n",
              "mean    2098.262996  1.509328e+04          1.502360            0.007661   \n",
              "std      928.275721  3.791962e+04          0.540239            0.087193   \n",
              "min      370.000000  5.200000e+02          1.000000            0.000000   \n",
              "25%     1440.000000  5.010750e+03          1.000000            0.000000   \n",
              "50%     1930.000000  7.620000e+03          1.500000            0.000000   \n",
              "75%     2570.000000  1.080000e+04          2.000000            0.000000   \n",
              "max    13540.000000  1.074218e+06          3.500000            1.000000   \n",
              "\n",
              "       number of views  condition of the house  ...    Built Year  \\\n",
              "count     14620.000000            14620.000000  ...  14620.000000   \n",
              "mean          0.233105                3.430506  ...   1970.926402   \n",
              "std           0.766259                0.664151  ...     29.493625   \n",
              "min           0.000000                1.000000  ...   1900.000000   \n",
              "25%           0.000000                3.000000  ...   1951.000000   \n",
              "50%           0.000000                3.000000  ...   1975.000000   \n",
              "75%           0.000000                4.000000  ...   1997.000000   \n",
              "max           4.000000                5.000000  ...   2015.000000   \n",
              "\n",
              "       Renovation Year    Postal Code     Lattitude     Longitude  \\\n",
              "count     14620.000000   14620.000000  14620.000000  14620.000000   \n",
              "mean         90.924008  122033.062244     52.792848   -114.404007   \n",
              "std         416.216661      19.082418      0.137522      0.141326   \n",
              "min           0.000000  122003.000000     52.385900   -114.709000   \n",
              "25%           0.000000  122017.000000     52.707600   -114.519000   \n",
              "50%           0.000000  122032.000000     52.806400   -114.421000   \n",
              "75%           0.000000  122048.000000     52.908900   -114.315000   \n",
              "max        2015.000000  122072.000000     53.007600   -113.505000   \n",
              "\n",
              "       living_area_renov  lot_area_renov  Number of schools nearby  \\\n",
              "count       14620.000000    14620.000000              14620.000000   \n",
              "mean         1996.702257    12753.500068                  2.012244   \n",
              "std           691.093366    26058.414467                  0.817284   \n",
              "min           460.000000      651.000000                  1.000000   \n",
              "25%          1490.000000     5097.750000                  1.000000   \n",
              "50%          1850.000000     7620.000000                  2.000000   \n",
              "75%          2380.000000    10125.000000                  3.000000   \n",
              "max          6110.000000   560617.000000                  3.000000   \n",
              "\n",
              "       Distance from the airport         Price  \n",
              "count               14620.000000  1.462000e+04  \n",
              "mean                   64.950958  5.389322e+05  \n",
              "std                     8.936008  3.675324e+05  \n",
              "min                    50.000000  7.800000e+04  \n",
              "25%                    57.000000  3.200000e+05  \n",
              "50%                    65.000000  4.500000e+05  \n",
              "75%                    73.000000  6.450000e+05  \n",
              "max                    80.000000  7.700000e+06  \n",
              "\n",
              "[8 rows x 23 columns]"
            ],
            "text/html": [
              "\n",
              "  <div id=\"df-b590044e-00a6-4ab3-ba2a-6619ae66856d\" class=\"colab-df-container\">\n",
              "    <div>\n",
              "<style scoped>\n",
              "    .dataframe tbody tr th:only-of-type {\n",
              "        vertical-align: middle;\n",
              "    }\n",
              "\n",
              "    .dataframe tbody tr th {\n",
              "        vertical-align: top;\n",
              "    }\n",
              "\n",
              "    .dataframe thead th {\n",
              "        text-align: right;\n",
              "    }\n",
              "</style>\n",
              "<table border=\"1\" class=\"dataframe\">\n",
              "  <thead>\n",
              "    <tr style=\"text-align: right;\">\n",
              "      <th></th>\n",
              "      <th>id</th>\n",
              "      <th>Date</th>\n",
              "      <th>number of bedrooms</th>\n",
              "      <th>number of bathrooms</th>\n",
              "      <th>living area</th>\n",
              "      <th>lot area</th>\n",
              "      <th>number of floors</th>\n",
              "      <th>waterfront present</th>\n",
              "      <th>number of views</th>\n",
              "      <th>condition of the house</th>\n",
              "      <th>...</th>\n",
              "      <th>Built Year</th>\n",
              "      <th>Renovation Year</th>\n",
              "      <th>Postal Code</th>\n",
              "      <th>Lattitude</th>\n",
              "      <th>Longitude</th>\n",
              "      <th>living_area_renov</th>\n",
              "      <th>lot_area_renov</th>\n",
              "      <th>Number of schools nearby</th>\n",
              "      <th>Distance from the airport</th>\n",
              "      <th>Price</th>\n",
              "    </tr>\n",
              "  </thead>\n",
              "  <tbody>\n",
              "    <tr>\n",
              "      <th>count</th>\n",
              "      <td>1.462000e+04</td>\n",
              "      <td>14620.000000</td>\n",
              "      <td>14620.000000</td>\n",
              "      <td>14620.000000</td>\n",
              "      <td>14620.000000</td>\n",
              "      <td>1.462000e+04</td>\n",
              "      <td>14620.000000</td>\n",
              "      <td>14620.000000</td>\n",
              "      <td>14620.000000</td>\n",
              "      <td>14620.000000</td>\n",
              "      <td>...</td>\n",
              "      <td>14620.000000</td>\n",
              "      <td>14620.000000</td>\n",
              "      <td>14620.000000</td>\n",
              "      <td>14620.000000</td>\n",
              "      <td>14620.000000</td>\n",
              "      <td>14620.000000</td>\n",
              "      <td>14620.000000</td>\n",
              "      <td>14620.000000</td>\n",
              "      <td>14620.000000</td>\n",
              "      <td>1.462000e+04</td>\n",
              "    </tr>\n",
              "    <tr>\n",
              "      <th>mean</th>\n",
              "      <td>6.762821e+09</td>\n",
              "      <td>42604.538646</td>\n",
              "      <td>3.379343</td>\n",
              "      <td>2.129583</td>\n",
              "      <td>2098.262996</td>\n",
              "      <td>1.509328e+04</td>\n",
              "      <td>1.502360</td>\n",
              "      <td>0.007661</td>\n",
              "      <td>0.233105</td>\n",
              "      <td>3.430506</td>\n",
              "      <td>...</td>\n",
              "      <td>1970.926402</td>\n",
              "      <td>90.924008</td>\n",
              "      <td>122033.062244</td>\n",
              "      <td>52.792848</td>\n",
              "      <td>-114.404007</td>\n",
              "      <td>1996.702257</td>\n",
              "      <td>12753.500068</td>\n",
              "      <td>2.012244</td>\n",
              "      <td>64.950958</td>\n",
              "      <td>5.389322e+05</td>\n",
              "    </tr>\n",
              "    <tr>\n",
              "      <th>std</th>\n",
              "      <td>6.237575e+03</td>\n",
              "      <td>67.347991</td>\n",
              "      <td>0.938719</td>\n",
              "      <td>0.769934</td>\n",
              "      <td>928.275721</td>\n",
              "      <td>3.791962e+04</td>\n",
              "      <td>0.540239</td>\n",
              "      <td>0.087193</td>\n",
              "      <td>0.766259</td>\n",
              "      <td>0.664151</td>\n",
              "      <td>...</td>\n",
              "      <td>29.493625</td>\n",
              "      <td>416.216661</td>\n",
              "      <td>19.082418</td>\n",
              "      <td>0.137522</td>\n",
              "      <td>0.141326</td>\n",
              "      <td>691.093366</td>\n",
              "      <td>26058.414467</td>\n",
              "      <td>0.817284</td>\n",
              "      <td>8.936008</td>\n",
              "      <td>3.675324e+05</td>\n",
              "    </tr>\n",
              "    <tr>\n",
              "      <th>min</th>\n",
              "      <td>6.762810e+09</td>\n",
              "      <td>42491.000000</td>\n",
              "      <td>1.000000</td>\n",
              "      <td>0.500000</td>\n",
              "      <td>370.000000</td>\n",
              "      <td>5.200000e+02</td>\n",
              "      <td>1.000000</td>\n",
              "      <td>0.000000</td>\n",
              "      <td>0.000000</td>\n",
              "      <td>1.000000</td>\n",
              "      <td>...</td>\n",
              "      <td>1900.000000</td>\n",
              "      <td>0.000000</td>\n",
              "      <td>122003.000000</td>\n",
              "      <td>52.385900</td>\n",
              "      <td>-114.709000</td>\n",
              "      <td>460.000000</td>\n",
              "      <td>651.000000</td>\n",
              "      <td>1.000000</td>\n",
              "      <td>50.000000</td>\n",
              "      <td>7.800000e+04</td>\n",
              "    </tr>\n",
              "    <tr>\n",
              "      <th>25%</th>\n",
              "      <td>6.762815e+09</td>\n",
              "      <td>42546.000000</td>\n",
              "      <td>3.000000</td>\n",
              "      <td>1.750000</td>\n",
              "      <td>1440.000000</td>\n",
              "      <td>5.010750e+03</td>\n",
              "      <td>1.000000</td>\n",
              "      <td>0.000000</td>\n",
              "      <td>0.000000</td>\n",
              "      <td>3.000000</td>\n",
              "      <td>...</td>\n",
              "      <td>1951.000000</td>\n",
              "      <td>0.000000</td>\n",
              "      <td>122017.000000</td>\n",
              "      <td>52.707600</td>\n",
              "      <td>-114.519000</td>\n",
              "      <td>1490.000000</td>\n",
              "      <td>5097.750000</td>\n",
              "      <td>1.000000</td>\n",
              "      <td>57.000000</td>\n",
              "      <td>3.200000e+05</td>\n",
              "    </tr>\n",
              "    <tr>\n",
              "      <th>50%</th>\n",
              "      <td>6.762821e+09</td>\n",
              "      <td>42600.000000</td>\n",
              "      <td>3.000000</td>\n",
              "      <td>2.250000</td>\n",
              "      <td>1930.000000</td>\n",
              "      <td>7.620000e+03</td>\n",
              "      <td>1.500000</td>\n",
              "      <td>0.000000</td>\n",
              "      <td>0.000000</td>\n",
              "      <td>3.000000</td>\n",
              "      <td>...</td>\n",
              "      <td>1975.000000</td>\n",
              "      <td>0.000000</td>\n",
              "      <td>122032.000000</td>\n",
              "      <td>52.806400</td>\n",
              "      <td>-114.421000</td>\n",
              "      <td>1850.000000</td>\n",
              "      <td>7620.000000</td>\n",
              "      <td>2.000000</td>\n",
              "      <td>65.000000</td>\n",
              "      <td>4.500000e+05</td>\n",
              "    </tr>\n",
              "    <tr>\n",
              "      <th>75%</th>\n",
              "      <td>6.762826e+09</td>\n",
              "      <td>42662.000000</td>\n",
              "      <td>4.000000</td>\n",
              "      <td>2.500000</td>\n",
              "      <td>2570.000000</td>\n",
              "      <td>1.080000e+04</td>\n",
              "      <td>2.000000</td>\n",
              "      <td>0.000000</td>\n",
              "      <td>0.000000</td>\n",
              "      <td>4.000000</td>\n",
              "      <td>...</td>\n",
              "      <td>1997.000000</td>\n",
              "      <td>0.000000</td>\n",
              "      <td>122048.000000</td>\n",
              "      <td>52.908900</td>\n",
              "      <td>-114.315000</td>\n",
              "      <td>2380.000000</td>\n",
              "      <td>10125.000000</td>\n",
              "      <td>3.000000</td>\n",
              "      <td>73.000000</td>\n",
              "      <td>6.450000e+05</td>\n",
              "    </tr>\n",
              "    <tr>\n",
              "      <th>max</th>\n",
              "      <td>6.762832e+09</td>\n",
              "      <td>42734.000000</td>\n",
              "      <td>33.000000</td>\n",
              "      <td>8.000000</td>\n",
              "      <td>13540.000000</td>\n",
              "      <td>1.074218e+06</td>\n",
              "      <td>3.500000</td>\n",
              "      <td>1.000000</td>\n",
              "      <td>4.000000</td>\n",
              "      <td>5.000000</td>\n",
              "      <td>...</td>\n",
              "      <td>2015.000000</td>\n",
              "      <td>2015.000000</td>\n",
              "      <td>122072.000000</td>\n",
              "      <td>53.007600</td>\n",
              "      <td>-113.505000</td>\n",
              "      <td>6110.000000</td>\n",
              "      <td>560617.000000</td>\n",
              "      <td>3.000000</td>\n",
              "      <td>80.000000</td>\n",
              "      <td>7.700000e+06</td>\n",
              "    </tr>\n",
              "  </tbody>\n",
              "</table>\n",
              "<p>8 rows × 23 columns</p>\n",
              "</div>\n",
              "    <div class=\"colab-df-buttons\">\n",
              "\n",
              "  <div class=\"colab-df-container\">\n",
              "    <button class=\"colab-df-convert\" onclick=\"convertToInteractive('df-b590044e-00a6-4ab3-ba2a-6619ae66856d')\"\n",
              "            title=\"Convert this dataframe to an interactive table.\"\n",
              "            style=\"display:none;\">\n",
              "\n",
              "  <svg xmlns=\"http://www.w3.org/2000/svg\" height=\"24px\" viewBox=\"0 -960 960 960\">\n",
              "    <path d=\"M120-120v-720h720v720H120Zm60-500h600v-160H180v160Zm220 220h160v-160H400v160Zm0 220h160v-160H400v160ZM180-400h160v-160H180v160Zm440 0h160v-160H620v160ZM180-180h160v-160H180v160Zm440 0h160v-160H620v160Z\"/>\n",
              "  </svg>\n",
              "    </button>\n",
              "\n",
              "  <style>\n",
              "    .colab-df-container {\n",
              "      display:flex;\n",
              "      gap: 12px;\n",
              "    }\n",
              "\n",
              "    .colab-df-convert {\n",
              "      background-color: #E8F0FE;\n",
              "      border: none;\n",
              "      border-radius: 50%;\n",
              "      cursor: pointer;\n",
              "      display: none;\n",
              "      fill: #1967D2;\n",
              "      height: 32px;\n",
              "      padding: 0 0 0 0;\n",
              "      width: 32px;\n",
              "    }\n",
              "\n",
              "    .colab-df-convert:hover {\n",
              "      background-color: #E2EBFA;\n",
              "      box-shadow: 0px 1px 2px rgba(60, 64, 67, 0.3), 0px 1px 3px 1px rgba(60, 64, 67, 0.15);\n",
              "      fill: #174EA6;\n",
              "    }\n",
              "\n",
              "    .colab-df-buttons div {\n",
              "      margin-bottom: 4px;\n",
              "    }\n",
              "\n",
              "    [theme=dark] .colab-df-convert {\n",
              "      background-color: #3B4455;\n",
              "      fill: #D2E3FC;\n",
              "    }\n",
              "\n",
              "    [theme=dark] .colab-df-convert:hover {\n",
              "      background-color: #434B5C;\n",
              "      box-shadow: 0px 1px 3px 1px rgba(0, 0, 0, 0.15);\n",
              "      filter: drop-shadow(0px 1px 2px rgba(0, 0, 0, 0.3));\n",
              "      fill: #FFFFFF;\n",
              "    }\n",
              "  </style>\n",
              "\n",
              "    <script>\n",
              "      const buttonEl =\n",
              "        document.querySelector('#df-b590044e-00a6-4ab3-ba2a-6619ae66856d button.colab-df-convert');\n",
              "      buttonEl.style.display =\n",
              "        google.colab.kernel.accessAllowed ? 'block' : 'none';\n",
              "\n",
              "      async function convertToInteractive(key) {\n",
              "        const element = document.querySelector('#df-b590044e-00a6-4ab3-ba2a-6619ae66856d');\n",
              "        const dataTable =\n",
              "          await google.colab.kernel.invokeFunction('convertToInteractive',\n",
              "                                                    [key], {});\n",
              "        if (!dataTable) return;\n",
              "\n",
              "        const docLinkHtml = 'Like what you see? Visit the ' +\n",
              "          '<a target=\"_blank\" href=https://colab.research.google.com/notebooks/data_table.ipynb>data table notebook</a>'\n",
              "          + ' to learn more about interactive tables.';\n",
              "        element.innerHTML = '';\n",
              "        dataTable['output_type'] = 'display_data';\n",
              "        await google.colab.output.renderOutput(dataTable, element);\n",
              "        const docLink = document.createElement('div');\n",
              "        docLink.innerHTML = docLinkHtml;\n",
              "        element.appendChild(docLink);\n",
              "      }\n",
              "    </script>\n",
              "  </div>\n",
              "\n",
              "\n",
              "<div id=\"df-794c9693-5367-4476-aa6c-3e7ada740599\">\n",
              "  <button class=\"colab-df-quickchart\" onclick=\"quickchart('df-794c9693-5367-4476-aa6c-3e7ada740599')\"\n",
              "            title=\"Suggest charts\"\n",
              "            style=\"display:none;\">\n",
              "\n",
              "<svg xmlns=\"http://www.w3.org/2000/svg\" height=\"24px\"viewBox=\"0 0 24 24\"\n",
              "     width=\"24px\">\n",
              "    <g>\n",
              "        <path d=\"M19 3H5c-1.1 0-2 .9-2 2v14c0 1.1.9 2 2 2h14c1.1 0 2-.9 2-2V5c0-1.1-.9-2-2-2zM9 17H7v-7h2v7zm4 0h-2V7h2v10zm4 0h-2v-4h2v4z\"/>\n",
              "    </g>\n",
              "</svg>\n",
              "  </button>\n",
              "\n",
              "<style>\n",
              "  .colab-df-quickchart {\n",
              "      --bg-color: #E8F0FE;\n",
              "      --fill-color: #1967D2;\n",
              "      --hover-bg-color: #E2EBFA;\n",
              "      --hover-fill-color: #174EA6;\n",
              "      --disabled-fill-color: #AAA;\n",
              "      --disabled-bg-color: #DDD;\n",
              "  }\n",
              "\n",
              "  [theme=dark] .colab-df-quickchart {\n",
              "      --bg-color: #3B4455;\n",
              "      --fill-color: #D2E3FC;\n",
              "      --hover-bg-color: #434B5C;\n",
              "      --hover-fill-color: #FFFFFF;\n",
              "      --disabled-bg-color: #3B4455;\n",
              "      --disabled-fill-color: #666;\n",
              "  }\n",
              "\n",
              "  .colab-df-quickchart {\n",
              "    background-color: var(--bg-color);\n",
              "    border: none;\n",
              "    border-radius: 50%;\n",
              "    cursor: pointer;\n",
              "    display: none;\n",
              "    fill: var(--fill-color);\n",
              "    height: 32px;\n",
              "    padding: 0;\n",
              "    width: 32px;\n",
              "  }\n",
              "\n",
              "  .colab-df-quickchart:hover {\n",
              "    background-color: var(--hover-bg-color);\n",
              "    box-shadow: 0 1px 2px rgba(60, 64, 67, 0.3), 0 1px 3px 1px rgba(60, 64, 67, 0.15);\n",
              "    fill: var(--button-hover-fill-color);\n",
              "  }\n",
              "\n",
              "  .colab-df-quickchart-complete:disabled,\n",
              "  .colab-df-quickchart-complete:disabled:hover {\n",
              "    background-color: var(--disabled-bg-color);\n",
              "    fill: var(--disabled-fill-color);\n",
              "    box-shadow: none;\n",
              "  }\n",
              "\n",
              "  .colab-df-spinner {\n",
              "    border: 2px solid var(--fill-color);\n",
              "    border-color: transparent;\n",
              "    border-bottom-color: var(--fill-color);\n",
              "    animation:\n",
              "      spin 1s steps(1) infinite;\n",
              "  }\n",
              "\n",
              "  @keyframes spin {\n",
              "    0% {\n",
              "      border-color: transparent;\n",
              "      border-bottom-color: var(--fill-color);\n",
              "      border-left-color: var(--fill-color);\n",
              "    }\n",
              "    20% {\n",
              "      border-color: transparent;\n",
              "      border-left-color: var(--fill-color);\n",
              "      border-top-color: var(--fill-color);\n",
              "    }\n",
              "    30% {\n",
              "      border-color: transparent;\n",
              "      border-left-color: var(--fill-color);\n",
              "      border-top-color: var(--fill-color);\n",
              "      border-right-color: var(--fill-color);\n",
              "    }\n",
              "    40% {\n",
              "      border-color: transparent;\n",
              "      border-right-color: var(--fill-color);\n",
              "      border-top-color: var(--fill-color);\n",
              "    }\n",
              "    60% {\n",
              "      border-color: transparent;\n",
              "      border-right-color: var(--fill-color);\n",
              "    }\n",
              "    80% {\n",
              "      border-color: transparent;\n",
              "      border-right-color: var(--fill-color);\n",
              "      border-bottom-color: var(--fill-color);\n",
              "    }\n",
              "    90% {\n",
              "      border-color: transparent;\n",
              "      border-bottom-color: var(--fill-color);\n",
              "    }\n",
              "  }\n",
              "</style>\n",
              "\n",
              "  <script>\n",
              "    async function quickchart(key) {\n",
              "      const quickchartButtonEl =\n",
              "        document.querySelector('#' + key + ' button');\n",
              "      quickchartButtonEl.disabled = true;  // To prevent multiple clicks.\n",
              "      quickchartButtonEl.classList.add('colab-df-spinner');\n",
              "      try {\n",
              "        const charts = await google.colab.kernel.invokeFunction(\n",
              "            'suggestCharts', [key], {});\n",
              "      } catch (error) {\n",
              "        console.error('Error during call to suggestCharts:', error);\n",
              "      }\n",
              "      quickchartButtonEl.classList.remove('colab-df-spinner');\n",
              "      quickchartButtonEl.classList.add('colab-df-quickchart-complete');\n",
              "    }\n",
              "    (() => {\n",
              "      let quickchartButtonEl =\n",
              "        document.querySelector('#df-794c9693-5367-4476-aa6c-3e7ada740599 button');\n",
              "      quickchartButtonEl.style.display =\n",
              "        google.colab.kernel.accessAllowed ? 'block' : 'none';\n",
              "    })();\n",
              "  </script>\n",
              "</div>\n",
              "\n",
              "    </div>\n",
              "  </div>\n"
            ],
            "application/vnd.google.colaboratory.intrinsic+json": {
              "type": "dataframe"
            }
          },
          "metadata": {},
          "execution_count": 31
        }
      ]
    }
  ]
}